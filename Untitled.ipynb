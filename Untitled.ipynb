{
 "cells": [
  {
   "cell_type": "code",
   "execution_count": 2,
   "id": "ef059daf",
   "metadata": {},
   "outputs": [
    {
     "name": "stdout",
     "output_type": "stream",
     "text": [
      "Enter a number 5\n",
      "5\n"
     ]
    }
   ],
   "source": [
    "a = int(input(\"Enter a number\"))\n",
    "print (a)"
   ]
  },
  {
   "cell_type": "markdown",
   "id": "dbb0d683",
   "metadata": {},
   "source": [
    "Default datatype str\n"
   ]
  },
  {
   "cell_type": "code",
   "execution_count": 3,
   "id": "2dc907fd",
   "metadata": {},
   "outputs": [
    {
     "name": "stdout",
     "output_type": "stream",
     "text": [
      "2.0\n"
     ]
    }
   ],
   "source": [
    "print(4/2)"
   ]
  },
  {
   "cell_type": "code",
   "execution_count": 6,
   "id": "ac46e3ad",
   "metadata": {},
   "outputs": [],
   "source": [
    "def hello(name):\n",
    "    print(f\"Hello !!{name} \")"
   ]
  },
  {
   "cell_type": "code",
   "execution_count": 7,
   "id": "d5a30808",
   "metadata": {},
   "outputs": [
    {
     "name": "stdout",
     "output_type": "stream",
     "text": [
      "Hello !!Keerthu \n"
     ]
    }
   ],
   "source": [
    "hello(\"Keerthu\")"
   ]
  },
  {
   "cell_type": "code",
   "execution_count": 11,
   "id": "9f69b3c5",
   "metadata": {},
   "outputs": [],
   "source": [
    "def addition(num1,num2):\n",
    "    sum1 = num1+num2\n",
    "    return sum1\n"
   ]
  },
  {
   "cell_type": "code",
   "execution_count": 14,
   "id": "fe0de415",
   "metadata": {},
   "outputs": [
    {
     "data": {
      "text/plain": [
       "10"
      ]
     },
     "execution_count": 14,
     "metadata": {},
     "output_type": "execute_result"
    }
   ],
   "source": [
    "addition(5,5)"
   ]
  },
  {
   "cell_type": "code",
   "execution_count": 21,
   "id": "bc2234ec",
   "metadata": {},
   "outputs": [],
   "source": [
    "def swapvariables(a,b):\n",
    "    t=0\n",
    "    t=a\n",
    "    a=b\n",
    "    b=t\n",
    "    \n",
    "    return(a,b)"
   ]
  },
  {
   "cell_type": "code",
   "execution_count": 22,
   "id": "58e6708f",
   "metadata": {},
   "outputs": [
    {
     "data": {
      "text/plain": [
       "(6, 5)"
      ]
     },
     "execution_count": 22,
     "metadata": {},
     "output_type": "execute_result"
    }
   ],
   "source": [
    "swapvariables(5,6)"
   ]
  },
  {
   "cell_type": "code",
   "execution_count": 26,
   "id": "26ed9546",
   "metadata": {},
   "outputs": [
    {
     "name": "stdout",
     "output_type": "stream",
     "text": [
      "Enter your age 18\n",
      "Adult\n"
     ]
    }
   ],
   "source": [
    "age = int(input (\"Enter your age\"))\n",
    "if age>=18:\n",
    "        print(\"Adult\")\n",
    "else :\n",
    "         print(\"Child\")"
   ]
  },
  {
   "cell_type": "code",
   "execution_count": 27,
   "id": "3d695664",
   "metadata": {},
   "outputs": [
    {
     "name": "stdout",
     "output_type": "stream",
     "text": [
      "Enter a year:  1998\n",
      "1998 is not a leap year\n"
     ]
    }
   ],
   "source": [
    "# Input a year from the user\n",
    "year = int(input(\"Enter a year: \"))\n",
    "\n",
    "# Check if it's a leap year\n",
    "if (year % 4 == 0 and year % 100 != 0) or (year % 400 == 0):\n",
    "    print(year, \"is a leap year\")\n",
    "else:\n",
    "    print(year, \"is not a leap year\")\n"
   ]
  },
  {
   "cell_type": "code",
   "execution_count": null,
   "id": "13a5c621",
   "metadata": {},
   "outputs": [],
   "source": []
  }
 ],
 "metadata": {
  "kernelspec": {
   "display_name": "Python 3 (ipykernel)",
   "language": "python",
   "name": "python3"
  },
  "language_info": {
   "codemirror_mode": {
    "name": "ipython",
    "version": 3
   },
   "file_extension": ".py",
   "mimetype": "text/x-python",
   "name": "python",
   "nbconvert_exporter": "python",
   "pygments_lexer": "ipython3",
   "version": "3.9.7"
  }
 },
 "nbformat": 4,
 "nbformat_minor": 5
}
